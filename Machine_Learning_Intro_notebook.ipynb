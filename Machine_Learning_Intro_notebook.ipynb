{
    "nbformat_minor": 1, 
    "cells": [
        {
            "execution_count": 31, 
            "cell_type": "code", 
            "metadata": {}, 
            "outputs": [
                {
                    "output_type": "stream", 
                    "name": "stdout", 
                    "text": "load the historical dataset from previous loan application.\n"
                }
            ], 
            "source": "# The code was removed by Watson Studio for sharing."
        }, 
        {
            "source": "print('This project build a classifier to predict whether a loan will be paid off ot not.')", 
            "cell_type": "markdown", 
            "metadata": {}
        }, 
        {
            "execution_count": 32, 
            "cell_type": "code", 
            "metadata": {}, 
            "outputs": [], 
            "source": "import pylab as pl\nimport numpy as np\nimport scipy.optimize as opt\nimport matplotlib.pyplot as plt "
        }, 
        {
            "execution_count": 34, 
            "cell_type": "code", 
            "metadata": {}, 
            "outputs": [
                {
                    "execution_count": 34, 
                    "metadata": {}, 
                    "data": {
                        "text/plain": "array([['PAIDOFF'],\n       ['PAIDOFF'],\n       ['PAIDOFF']], dtype=object)"
                    }, 
                    "output_type": "execute_result"
                }
            ], 
            "source": "data.head(3)\n"
        }, 
        {
            "execution_count": 7, 
            "cell_type": "code", 
            "metadata": {}, 
            "outputs": [
                {
                    "output_type": "stream", 
                    "name": "stderr", 
                    "text": "/opt/conda/envs/DSX-Python35/lib/python3.5/site-packages/sklearn/preprocessing/label.py:128: DataConversionWarning: A column-vector y was passed when a 1d array was expected. Please change the shape of y to (n_samples, ), for example using ravel().\n  y = column_or_1d(y, warn=True)\n"
                }, 
                {
                    "execution_count": 7, 
                    "metadata": {}, 
                    "data": {
                        "text/plain": "array([1, 1, 1, 1, 1])"
                    }, 
                    "output_type": "execute_result"
                }
            ], 
            "source": "y = data[ ['loan_status'] ].values\ny[0:3]\n\n\n# let us redefine y as y1. y1 will be in part II; i.e.; best classifier with Decision Tree\ny1 = y\nfrom sklearn import preprocessing\nle_status = preprocessing.LabelEncoder()\nle_status.fit(['PAIDOFF', 'COLLECTION'])\ny1 = le_status.transform(y1)\ny1[0:5]"
        }, 
        {
            "execution_count": 38, 
            "cell_type": "code", 
            "metadata": {}, 
            "outputs": [
                {
                    "execution_count": 38, 
                    "metadata": {}, 
                    "data": {
                        "text/plain": "array([[1000, 30, 45, 'male'],\n       [1000, 30, 33, 'female'],\n       [1000, 15, 27, 'male']], dtype=object)"
                    }, 
                    "output_type": "execute_result"
                }
            ], 
            "source": "X = data[ ['Principal', 'terms', 'age', 'Gender'] ].values\nX[0:3]"
        }, 
        {
            "execution_count": 42, 
            "cell_type": "code", 
            "metadata": {}, 
            "outputs": [
                {
                    "execution_count": 42, 
                    "metadata": {}, 
                    "data": {
                        "text/plain": "array([[1000, 30, 45, 1],\n       [1000, 30, 33, 0]], dtype=object)"
                    }, 
                    "output_type": "execute_result"
                }
            ], 
            "source": "# converting categorical variables into numerical values \nfrom sklearn import preprocessing \nle_gender = preprocessing.LabelEncoder()\nle_gender.fit(['male', 'female'])\nX[:,3] = le_gender.transform(X[:,3])\nX[0:2]"
        }, 
        {
            "execution_count": 44, 
            "cell_type": "code", 
            "metadata": {}, 
            "outputs": [
                {
                    "output_type": "stream", 
                    "name": "stdout", 
                    "text": "Normalize Data\n"
                }, 
                {
                    "execution_count": 44, 
                    "metadata": {}, 
                    "data": {
                        "text/plain": "array([[ 0.51578458,  0.92071769,  2.33152555,  0.42056004],\n       [ 0.51578458,  0.92071769,  0.34170148, -2.37778177]])"
                    }, 
                    "output_type": "execute_result"
                }
            ], 
            "source": "print('Normalize Data')\n\n# Data standardization give data zero mean and unit variance \n# and it is a good practice for KNN since it is based on disatnce cases. \n\nX = preprocessing.StandardScaler().fit(X).transform(X.astype(float))\nX[0:2]"
        }, 
        {
            "execution_count": 46, 
            "cell_type": "code", 
            "metadata": {}, 
            "outputs": [
                {
                    "output_type": "stream", 
                    "name": "stdout", 
                    "text": "Train set : (276, 4) (276, 1)\nTest set : (70, 4) (70, 1)\n"
                }
            ], 
            "source": "from sklearn.model_selection import train_test_split\n\nX_train, X_test, y_train, y_test = train_test_split(X, y, test_size=0.2, random_state=4)\nprint('Train set :', X_train.shape, y_train.shape )\nprint('Test set :', X_test.shape, y_test.shape)"
        }, 
        {
            "execution_count": 50, 
            "cell_type": "code", 
            "metadata": {}, 
            "outputs": [
                {
                    "output_type": "stream", 
                    "name": "stdout", 
                    "text": "Classification => K nearest neighbor KNN\n"
                }, 
                {
                    "output_type": "stream", 
                    "name": "stderr", 
                    "text": "/opt/conda/envs/DSX-Python35/lib/python3.5/site-packages/ipykernel/__main__.py:5: DataConversionWarning: A column-vector y was passed when a 1d array was expected. Please change the shape of y to (n_samples, ), for example using ravel().\n"
                }
            ], 
            "source": "print('Classification => K nearest neighbor KNN')\nk = 4\n# Train the model\nfrom sklearn.neighbors import KNeighborsClassifier\nneigh = KNeighborsClassifier(n_neighbors =k).fit(X_train,y_train)\nneigh\n# predict\nyhat = neigh.predict(X_test)"
        }, 
        {
            "execution_count": 52, 
            "cell_type": "code", 
            "metadata": {}, 
            "outputs": [
                {
                    "output_type": "stream", 
                    "name": "stdout", 
                    "text": "Train set Accuracy 0.671428571429\nTest set Accuracy 0.671428571429\n"
                }
            ], 
            "source": "# Accuracy evaluation \nfrom sklearn import metrics\ntrain_accuracy = metrics.accuracy_score(y_test, yhat)\ntest_set_accuracy = metrics.accuracy_score(y_test, yhat)\nprint('Train set Accuracy', train_accuracy)\nprint('Test set Accuracy', test_set_accuracy)"
        }, 
        {
            "execution_count": 63, 
            "cell_type": "code", 
            "metadata": {}, 
            "outputs": [
                {
                    "output_type": "stream", 
                    "name": "stdout", 
                    "text": "Find the best k\nbest accuracy with 0.757142857143 with k =  5\n"
                }, 
                {
                    "output_type": "stream", 
                    "name": "stderr", 
                    "text": "/opt/conda/envs/DSX-Python35/lib/python3.5/site-packages/ipykernel/__main__.py:10: DataConversionWarning: A column-vector y was passed when a 1d array was expected. Please change the shape of y to (n_samples, ), for example using ravel().\n"
                }
            ], 
            "source": "print('Find the best k')\n\nKs = 10\n\nmean_acc = np.zeros((Ks-1))\nstd_acc = np.zeros((Ks-1))\n\n\nfor n in range(1,Ks):\n    neigh = KNeighborsClassifier(n_neighbors = n).fit(X_train,y_train)\n    yhat = neigh.predict(X_test)\n    mean_acc[n-1] = metrics.accuracy_score(y_test, yhat)\n    std_acc[n-1] = np.std(yhat==y_test)/np.sqrt(yhat.shape[0])\n\n\nprint('best accuracy with', mean_acc.max(), 'with k = ', mean_acc.argmax()+1)\n"
        }, 
        {
            "execution_count": 67, 
            "cell_type": "code", 
            "metadata": {}, 
            "outputs": [
                {
                    "output_type": "stream", 
                    "name": "stdout", 
                    "text": "PART II => Best classifier with Decision Tree : \n"
                }
            ], 
            "source": "print ('PART II => Best classifier with Decision Tree : ')"
        }, 
        {
            "execution_count": 72, 
            "cell_type": "code", 
            "metadata": {}, 
            "outputs": [
                {
                    "execution_count": 72, 
                    "metadata": {}, 
                    "data": {
                        "text/plain": "DecisionTreeClassifier(class_weight=None, criterion='entropy', max_depth=4,\n            max_features=None, max_leaf_nodes=None,\n            min_impurity_decrease=0.0, min_impurity_split=None,\n            min_samples_leaf=1, min_samples_split=2,\n            min_weight_fraction_leaf=0.0, presort=False, random_state=None,\n            splitter='best')"
                    }, 
                    "output_type": "execute_result"
                }
            ], 
            "source": "from sklearn.tree import DecisionTreeClassifier\nX_trainII, X_testII, y_trainII, y_testII = train_test_split(X, y1, test_size = 0.2, random_state = 4)\nloanTree = DecisionTreeClassifier(criterion = 'entropy', max_depth = 4)\nloanTree"
        }, 
        {
            "execution_count": 74, 
            "cell_type": "code", 
            "metadata": {}, 
            "outputs": [], 
            "source": "# train the laon tree\nloanTree.fit(X_trainII, y_trainII)\npredTree = loanTree.predict(X_testII)"
        }, 
        {
            "execution_count": 77, 
            "cell_type": "code", 
            "metadata": {}, 
            "outputs": [
                {
                    "output_type": "stream", 
                    "name": "stdout", 
                    "text": "Evaluation\nDecision tree accuracy score 0.785714285714\n"
                }
            ], 
            "source": "print('Evaluation')\n\naccuracy_DecTree = metrics.accuracy_score(y_testII, predTree)\n\nprint('Decision tree accuracy score', accuracy_DecTree)"
        }, 
        {
            "execution_count": 2, 
            "cell_type": "code", 
            "metadata": {}, 
            "outputs": [
                {
                    "output_type": "stream", 
                    "name": "stdout", 
                    "text": "PART III => Best classifier with SVM : \n"
                }
            ], 
            "source": "print('PART III => Best classifier with SVM : ')"
        }, 
        {
            "execution_count": 20, 
            "cell_type": "code", 
            "metadata": {}, 
            "outputs": [
                {
                    "execution_count": 20, 
                    "metadata": {}, 
                    "data": {
                        "text/plain": "array([[1000, 30, 45, 1],\n       [1000, 30, 33, 0]], dtype=object)"
                    }, 
                    "output_type": "execute_result"
                }
            ], 
            "source": "X_svm = data[ ['Principal', 'terms', 'age', 'Gender'] ].values\nle_gender = preprocessing.LabelEncoder()\nle_gender.fit(['male', 'female'])\nX_svm[:,3] = le_gender.transform(X_svm[:,3])\nX_svm[0:2]"
        }, 
        {
            "execution_count": 25, 
            "cell_type": "code", 
            "metadata": {}, 
            "outputs": [
                {
                    "execution_count": 25, 
                    "metadata": {}, 
                    "data": {
                        "text/plain": "array([1, 1, 1])"
                    }, 
                    "output_type": "execute_result"
                }
            ], 
            "source": "y_svm = y1\ny_svm[0:3]"
        }, 
        {
            "execution_count": 26, 
            "cell_type": "code", 
            "metadata": {}, 
            "outputs": [
                {
                    "output_type": "stream", 
                    "name": "stdout", 
                    "text": "Train set :  (276, 4) (276,)\nTest set :  (70, 4) (70,)\n"
                }
            ], 
            "source": "from sklearn.model_selection import train_test_split\nX_trainIII, X_testIII, y_trainIII, y_testIII = train_test_split(X_svm, y_svm, test_size=0.2, random_state=4)\n\nprint('Train set : ', X_trainIII.shape, y_trainIII.shape )\nprint('Test set : ', X_testIII.shape, y_testIII.shape)\n"
        }, 
        {
            "execution_count": 28, 
            "cell_type": "code", 
            "metadata": {}, 
            "outputs": [
                {
                    "execution_count": 28, 
                    "metadata": {}, 
                    "data": {
                        "text/plain": "array([1, 1, 1, 0, 1])"
                    }, 
                    "output_type": "execute_result"
                }
            ], 
            "source": "from sklearn import svm\nclf = svm.SVC(kernel = 'rbf')\nclf.fit(X_trainIII, y_trainIII)\n\nyhat = clf.predict(X_testIII)\nyhat[0:5]"
        }, 
        {
            "execution_count": 33, 
            "cell_type": "code", 
            "metadata": {}, 
            "outputs": [], 
            "source": "# Evaluations\n\nfrom sklearn.metrics import classification_report, confusion_matrix\nimport itertools\nimport matplotlib.pyplot as plt \n\ndef plot_confusion_matrix(cm, classes,\n                          normalize = False,\n                          title = 'Confusion matrix',\n                          cmap = plt.cm.Blues) :\n\n    if normalize:\n        cm = cm.astype('float')/cm.sum(axis=1) [:, np.newaxis]\n        print('Normalized confusion matrix')\n    else:\n        print('Confusion matrix, without normalization')\n\n    print(cm)\n\n    plt.imshow(cm, interpolation='nearest', cmap=cmap)\n    plt.title(title)\n    plt.colorbar()\n    tick_marks = np.arange(len(classes))\n    plt.xticks(tick_marks, classes, rotation = 45 )\n    plt.yticks(tick_marks, classes)\n\n    fmt = '.2f' if normalize else 'd'\n    thresh = cm.max()/2\n    for i, j in itertools.product(range(cm.shape[0]), range(cm.shape[1])):\n        plt.text(j, i, format(cm[i, j], fmt),\n                 horizontalalignment = 'center',\n                 color = 'white' if cm[i,j] > thresh else 'black')\n    plt.tight_layout()\n    plt.ylabel('True label')\n    plt.xlabel('Predicted label')\n    plt.show()\n\n"
        }, 
        {
            "execution_count": 37, 
            "cell_type": "code", 
            "metadata": {}, 
            "outputs": [
                {
                    "output_type": "stream", 
                    "name": "stdout", 
                    "text": "             precision    recall  f1-score   support\n\n          0       0.00      0.00      0.00        15\n          1       0.78      0.95      0.85        55\n\navg / total       0.61      0.74      0.67        70\n\n"
                }
            ], 
            "source": "cnf_matrix = confusion_matrix(y_testIII, yhat, labels=[1,0])\nnp.set_printoptions(precision=2)\nprint (classification_report(y_testIII, yhat))\n"
        }, 
        {
            "execution_count": 38, 
            "cell_type": "code", 
            "metadata": {}, 
            "outputs": [
                {
                    "output_type": "stream", 
                    "name": "stdout", 
                    "text": "Confusion matrix, without normalization\n[[52  3]\n [15  0]]\n"
                }, 
                {
                    "output_type": "display_data", 
                    "data": {
                        "image/png": "[encoded data removed]", 
                        "text/plain": "<matplotlib.figure.Figure at 0x7fa27d370ef0>"
                    }, 
                    "metadata": {}
                }
            ], 
            "source": "plt.figure()\nplot_confusion_matrix(cnf_matrix, classes=['PAIDOFF(1)', 'COLLECTION(0)'], normalize=False,title='Confusion matrix')"
        }, 
        {
            "execution_count": null, 
            "cell_type": "code", 
            "metadata": {}, 
            "outputs": [], 
            "source": ""
        }
    ], 
    "metadata": {
        "kernelspec": {
            "display_name": "Python 3.5", 
            "name": "python3", 
            "language": "python"
        }, 
        "language_info": {
            "mimetype": "text/x-python", 
            "nbconvert_exporter": "python", 
            "version": "3.5.5", 
            "name": "python", 
            "file_extension": ".py", 
            "pygments_lexer": "ipython3", 
            "codemirror_mode": {
                "version": 3, 
                "name": "ipython"
            }
        }
    }, 
    "nbformat": 4
}