{
    "nbformat_minor": 1, 
    "cells": [
        {
            "source": "# @hidden_cell\n# The project token is an authorization token that is used to access project resources like data sources, connections, and used by platform APIs.\n\nfrom project_lib import Project\nproject = Project(project_id='83873562-0ff0-450a-a5c2-88fadc4d2190', project_access_token='p-51b3082028be1fee0e82710fdb71bb6d626eb659')\npc = project.project_context\n\n# Fetch the file \n\nprint('load the historical dataset from previous loan application.')\n\nmy_file = project.get_file(\"loan_train.csv\")\n\n# Read the CSV data file from the object storage into a pandas DataFrame\n\n#data.seek(0)\nimport pandas as pd\ndata = pd.read_csv(my_file, delimiter = \",\")\n", 
            "cell_type": "code", 
            "metadata": {}, 
            "outputs": [
                {
                    "output_type": "stream", 
                    "name": "stdout", 
                    "text": "load the historical dataset from previous loan application.\n"
                }
            ], 
            "execution_count": 1
        }, 
        {
            "source": "print('This project build a classifier to predict whether a loan will be paid off ot not.')", 
            "cell_type": "code", 
            "metadata": {}, 
            "outputs": [
                {
                    "output_type": "stream", 
                    "name": "stdout", 
                    "text": "This project build a classifier to predict whether a loan will be paid off ot not.\n"
                }
            ], 
            "execution_count": 3
        }, 
        {
            "source": "import pylab as pl\nimport numpy as np\nimport scipy.optimize as opt\nimport matplotlib.pyplot as plt ", 
            "cell_type": "code", 
            "metadata": {}, 
            "outputs": [], 
            "execution_count": 32
        }, 
        {
            "source": "data.head(3)\n", 
            "cell_type": "code", 
            "metadata": {}, 
            "outputs": [
                {
                    "output_type": "execute_result", 
                    "data": {
                        "text/plain": "array([['PAIDOFF'],\n       ['PAIDOFF'],\n       ['PAIDOFF']], dtype=object)"
                    }, 
                    "execution_count": 34, 
                    "metadata": {}
                }
            ], 
            "execution_count": 34
        }, 
        {
            "source": "y = data[ ['loan_status'] ].values\ny[0:3]\n\n\n# let us redefine y as y1. y1 will be in part II; i.e.; best classifier with Decision Tree\ny1 = y\nfrom sklearn import preprocessing\nle_status = preprocessing.LabelEncoder()\nle_status.fit(['PAIDOFF', 'COLLECTION'])\ny1 = le_status.transform(y1)\ny1[0:5]", 
            "cell_type": "code", 
            "metadata": {}, 
            "outputs": [
                {
                    "output_type": "stream", 
                    "name": "stderr", 
                    "text": "/opt/conda/envs/DSX-Python35/lib/python3.5/site-packages/sklearn/preprocessing/label.py:128: DataConversionWarning: A column-vector y was passed when a 1d array was expected. Please change the shape of y to (n_samples, ), for example using ravel().\n  y = column_or_1d(y, warn=True)\n"
                }, 
                {
                    "output_type": "execute_result", 
                    "data": {
                        "text/plain": "array([1, 1, 1, 1, 1])"
                    }, 
                    "execution_count": 7, 
                    "metadata": {}
                }
            ], 
            "execution_count": 7
        }, 
        {
            "source": "X = data[ ['Principal', 'terms', 'age', 'Gender'] ].values\nX[0:3]", 
            "cell_type": "code", 
            "metadata": {}, 
            "outputs": [
                {
                    "output_type": "execute_result", 
                    "data": {
                        "text/plain": "array([[1000, 30, 45, 'male'],\n       [1000, 30, 33, 'female'],\n       [1000, 15, 27, 'male']], dtype=object)"
                    }, 
                    "execution_count": 38, 
                    "metadata": {}
                }
            ], 
            "execution_count": 38
        }, 
        {
            "source": "# converting categorical variables into numerical values \nfrom sklearn import preprocessing \nle_gender = preprocessing.LabelEncoder()\nle_gender.fit(['male', 'female'])\nX[:,3] = le_gender.transform(X[:,3])\nX[0:2]", 
            "cell_type": "code", 
            "metadata": {}, 
            "outputs": [
                {
                    "output_type": "execute_result", 
                    "data": {
                        "text/plain": "array([[1000, 30, 45, 1],\n       [1000, 30, 33, 0]], dtype=object)"
                    }, 
                    "execution_count": 42, 
                    "metadata": {}
                }
            ], 
            "execution_count": 42
        }, 
        {
            "source": "print('Normalize Data')\n\n# Data standardization give data zero mean and unit variance \n# and it is a good practice for KNN since it is based on disatnce cases. \n\nX = preprocessing.StandardScaler().fit(X).transform(X.astype(float))\nX[0:2]", 
            "cell_type": "code", 
            "metadata": {}, 
            "outputs": [
                {
                    "output_type": "stream", 
                    "name": "stdout", 
                    "text": "Normalize Data\n"
                }, 
                {
                    "output_type": "execute_result", 
                    "data": {
                        "text/plain": "array([[ 0.51578458,  0.92071769,  2.33152555,  0.42056004],\n       [ 0.51578458,  0.92071769,  0.34170148, -2.37778177]])"
                    }, 
                    "execution_count": 44, 
                    "metadata": {}
                }
            ], 
            "execution_count": 44
        }, 
        {
            "source": "from sklearn.model_selection import train_test_split\n\nX_train, X_test, y_train, y_test = train_test_split(X, y, test_size=0.2, random_state=4)\nprint('Train set :', X_train.shape, y_train.shape )\nprint('Test set :', X_test.shape, y_test.shape)", 
            "cell_type": "code", 
            "metadata": {}, 
            "outputs": [
                {
                    "output_type": "stream", 
                    "name": "stdout", 
                    "text": "Train set : (276, 4) (276, 1)\nTest set : (70, 4) (70, 1)\n"
                }
            ], 
            "execution_count": 46
        }, 
        {
            "source": "print('Classification => K nearest neighbor KNN')\nk = 4\n# Train the model\nfrom sklearn.neighbors import KNeighborsClassifier\nneigh = KNeighborsClassifier(n_neighbors =k).fit(X_train,y_train)\nneigh\n# predict\nyhat = neigh.predict(X_test)", 
            "cell_type": "code", 
            "metadata": {}, 
            "outputs": [
                {
                    "output_type": "stream", 
                    "name": "stdout", 
                    "text": "Classification => K nearest neighbor KNN\n"
                }, 
                {
                    "output_type": "stream", 
                    "name": "stderr", 
                    "text": "/opt/conda/envs/DSX-Python35/lib/python3.5/site-packages/ipykernel/__main__.py:5: DataConversionWarning: A column-vector y was passed when a 1d array was expected. Please change the shape of y to (n_samples, ), for example using ravel().\n"
                }
            ], 
            "execution_count": 50
        }, 
        {
            "source": "# Accuracy evaluation \nfrom sklearn import metrics\ntrain_accuracy = metrics.accuracy_score(y_test, yhat)\ntest_set_accuracy = metrics.accuracy_score(y_test, yhat)\nprint('Train set Accuracy', train_accuracy)\nprint('Test set Accuracy', test_set_accuracy)", 
            "cell_type": "code", 
            "metadata": {}, 
            "outputs": [
                {
                    "output_type": "stream", 
                    "name": "stdout", 
                    "text": "Train set Accuracy 0.671428571429\nTest set Accuracy 0.671428571429\n"
                }
            ], 
            "execution_count": 52
        }, 
        {
            "source": "print('Find the best k')\n\nKs = 10\n\nmean_acc = np.zeros((Ks-1))\nstd_acc = np.zeros((Ks-1))\n\n\nfor n in range(1,Ks):\n    neigh = KNeighborsClassifier(n_neighbors = n).fit(X_train,y_train)\n    yhat = neigh.predict(X_test)\n    mean_acc[n-1] = metrics.accuracy_score(y_test, yhat)\n    std_acc[n-1] = np.std(yhat==y_test)/np.sqrt(yhat.shape[0])\n\n\nprint('best accuracy with', mean_acc.max(), 'with k = ', mean_acc.argmax()+1)\n", 
            "cell_type": "code", 
            "metadata": {}, 
            "outputs": [
                {
                    "output_type": "stream", 
                    "name": "stdout", 
                    "text": "Find the best k\nbest accuracy with 0.757142857143 with k =  5\n"
                }, 
                {
                    "output_type": "stream", 
                    "name": "stderr", 
                    "text": "/opt/conda/envs/DSX-Python35/lib/python3.5/site-packages/ipykernel/__main__.py:10: DataConversionWarning: A column-vector y was passed when a 1d array was expected. Please change the shape of y to (n_samples, ), for example using ravel().\n"
                }
            ], 
            "execution_count": 63
        }, 
        {
            "source": "print ('PART II => Best classifier with Decision Tree : ')", 
            "cell_type": "code", 
            "metadata": {}, 
            "outputs": [
                {
                    "output_type": "stream", 
                    "name": "stdout", 
                    "text": "PART II => Best classifier with Decision Tree : \n"
                }
            ], 
            "execution_count": 67
        }, 
        {
            "source": "from sklearn.tree import DecisionTreeClassifier\nX_trainII, X_testII, y_trainII, y_testII = train_test_split(X, y1, test_size = 0.2, random_state = 4)\nloanTree = DecisionTreeClassifier(criterion = 'entropy', max_depth = 4)\nloanTree", 
            "cell_type": "code", 
            "metadata": {}, 
            "outputs": [
                {
                    "output_type": "execute_result", 
                    "data": {
                        "text/plain": "DecisionTreeClassifier(class_weight=None, criterion='entropy', max_depth=4,\n            max_features=None, max_leaf_nodes=None,\n            min_impurity_decrease=0.0, min_impurity_split=None,\n            min_samples_leaf=1, min_samples_split=2,\n            min_weight_fraction_leaf=0.0, presort=False, random_state=None,\n            splitter='best')"
                    }, 
                    "execution_count": 72, 
                    "metadata": {}
                }
            ], 
            "execution_count": 72
        }, 
        {
            "source": "# train the laon tree\nloanTree.fit(X_trainII, y_trainII)\npredTree = loanTree.predict(X_testII)", 
            "cell_type": "code", 
            "metadata": {}, 
            "outputs": [], 
            "execution_count": 74
        }, 
        {
            "source": "print('PART III => Best classifier with SVM : ')", 
            "cell_type": "code", 
            "metadata": {}, 
            "outputs": [
                {
                    "output_type": "stream", 
                    "name": "stdout", 
                    "text": "PART III => Best classifier with SVM : \n"
                }
            ], 
            "execution_count": 54
        }, 
        {
            "source": "X_svm = data[ ['Principal', 'terms', 'age', 'Gender'] ].values\nle_gender = preprocessing.LabelEncoder()\nle_gender.fit(['male', 'female'])\nX_svm[:,3] = le_gender.transform(X_svm[:,3])\nX_svm[0:2]", 
            "cell_type": "code", 
            "metadata": {}, 
            "outputs": [
                {
                    "output_type": "execute_result", 
                    "data": {
                        "text/plain": "array([[1000, 30, 45, 1],\n       [1000, 30, 33, 0]], dtype=object)"
                    }, 
                    "execution_count": 55, 
                    "metadata": {}
                }
            ], 
            "execution_count": 55
        }, 
        {
            "source": "y_svm = data[ ['loan_status'] ].values\nfrom sklearn import preprocessing\nle_status = preprocessing.LabelEncoder()\nle_status.fit(['PAIDOFF', 'COLLECTION'])\ny_svm = le_status.transform(y_svm)\ny_svm[0:5]", 
            "cell_type": "code", 
            "metadata": {}, 
            "outputs": [
                {
                    "output_type": "stream", 
                    "name": "stderr", 
                    "text": "/opt/conda/envs/DSX-Python35/lib/python3.5/site-packages/sklearn/preprocessing/label.py:128: DataConversionWarning: A column-vector y was passed when a 1d array was expected. Please change the shape of y to (n_samples, ), for example using ravel().\n  y = column_or_1d(y, warn=True)\n"
                }, 
                {
                    "output_type": "execute_result", 
                    "data": {
                        "text/plain": "array([1, 1, 1, 1, 1])"
                    }, 
                    "execution_count": 56, 
                    "metadata": {}
                }
            ], 
            "execution_count": 56
        }, 
        {
            "source": "from sklearn.model_selection import train_test_split\nX_trainIII, X_testIII, y_trainIII, y_testIII = train_test_split(X_svm, y_svm, test_size=0.2, random_state=4)\n\nprint('Train set : ', X_trainIII.shape, y_trainIII.shape )\nprint('Test set : ', X_testIII.shape, y_testIII.shape)", 
            "cell_type": "code", 
            "metadata": {}, 
            "outputs": [
                {
                    "output_type": "stream", 
                    "name": "stdout", 
                    "text": "Train set :  (276, 4) (276,)\nTest set :  (70, 4) (70,)\n"
                }
            ], 
            "execution_count": 57
        }, 
        {
            "source": "from sklearn import svm\nclf = svm.SVC(kernel = 'rbf')\nclf.fit(X_trainIII, y_trainIII)\n\nyhat_svm = clf.predict(X_testIII)\nyhat_svm[0:5]", 
            "cell_type": "code", 
            "metadata": {}, 
            "outputs": [
                {
                    "output_type": "execute_result", 
                    "data": {
                        "text/plain": "array([1, 1, 1, 0, 1])"
                    }, 
                    "execution_count": 58, 
                    "metadata": {}
                }
            ], 
            "execution_count": 58
        }, 
        {
            "source": "# Evaluations\n\nfrom sklearn.metrics import classification_report, confusion_matrix\nimport itertools\nimport matplotlib.pyplot as plt \n\ndef plot_confusion_matrix(cm, classes,\n                          normalize = False,\n                          title = 'Confusion matrix',\n                          cmap = plt.cm.Blues) :\n\n    if normalize:\n        cm = cm.astype('float')/cm.sum(axis=1) [:, np.newaxis]\n        print('Normalized confusion matrix')\n    else:\n        print('Confusion matrix, without normalization')\n\n    print(cm)\n\n    plt.imshow(cm, interpolation='nearest', cmap=cmap)\n    plt.title(title)\n    plt.colorbar()\n    tick_marks = np.arange(len(classes))\n    plt.xticks(tick_marks, classes, rotation = 45 )\n    plt.yticks(tick_marks, classes)\n\n    fmt = '.2f' if normalize else 'd'\n    thresh = cm.max()/2\n    for i, j in itertools.product(range(cm.shape[0]), range(cm.shape[1])):\n        plt.text(j, i, format(cm[i, j], fmt),\n                 horizontalalignment = 'center',\n                 color = 'white' if cm[i,j] > thresh else 'black')\n    plt.tight_layout()\n    plt.ylabel('True label')\n    plt.xlabel('Predicted label')\n    plt.show()", 
            "cell_type": "code", 
            "metadata": {}, 
            "outputs": [], 
            "execution_count": 59
        }, 
        {
            "source": "cnf_matrix = confusion_matrix(y_testIII, yhat_svm, labels=[1,0])\nnp.set_printoptions(precision=2)\nprint (classification_report(y_testIII, yhat_svm))", 
            "cell_type": "code", 
            "metadata": {}, 
            "outputs": [
                {
                    "output_type": "stream", 
                    "name": "stdout", 
                    "text": "             precision    recall  f1-score   support\n\n          0       0.00      0.00      0.00        15\n          1       0.78      0.95      0.85        55\n\navg / total       0.61      0.74      0.67        70\n\n"
                }
            ], 
            "execution_count": 60
        }, 
        {
            "source": "from sklearn.metrics import jaccard_similarity_score\njacc_sim_score = jaccard_similarity_score(y_testIII, yhat_svm)\nprint('jacc sim score : ', jacc_sim_score)", 
            "cell_type": "code", 
            "metadata": {}, 
            "outputs": [
                {
                    "output_type": "stream", 
                    "name": "stdout", 
                    "text": "jacc sim score :  0.742857142857\n"
                }
            ], 
            "execution_count": 61
        }, 
        {
            "source": "plt.figure()\nplot_confusion_matrix(cnf_matrix, classes=['PAIDOFF(1)', 'COLLECTION(0)'], normalize=False,title='Confusion matrix')", 
            "cell_type": "code", 
            "metadata": {}, 
            "outputs": [
                {
                    "output_type": "stream", 
                    "name": "stdout", 
                    "text": "Confusion matrix, without normalization\n[[52  3]\n [15  0]]\n"
                }, 
                {
                    "output_type": "display_data", 
                    "data": {
                        "image/png": "[encoded data removed]", 
                        "text/plain": "<matplotlib.figure.Figure at 0x7f007252bf98>"
                    }, 
                    "metadata": {}
                }
            ], 
            "execution_count": 62
        }, 
        {
            "source": "print('PART IV => Best classifier with Logistic Regression : ')", 
            "cell_type": "code", 
            "metadata": {}, 
            "outputs": [
                {
                    "output_type": "stream", 
                    "name": "stdout", 
                    "text": "PART IV => Best classifier with Logistic Regression : \n"
                }
            ], 
            "execution_count": 63
        }, 
        {
            "source": "from sklearn import preprocessing \nX_lr = data[ ['Principal', 'terms', 'age', 'Gender'] ].values\nle_gender = preprocessing.LabelEncoder()\nle_gender.fit(['male', 'female'])\nX_lr[:,3] = le_gender.transform(X_lr[:,3])\nX_lr[0:2]", 
            "cell_type": "code", 
            "metadata": {}, 
            "outputs": [
                {
                    "output_type": "execute_result", 
                    "data": {
                        "text/plain": "array([[1000, 30, 45, 1],\n       [1000, 30, 33, 0]], dtype=object)"
                    }, 
                    "execution_count": 64, 
                    "metadata": {}
                }
            ], 
            "execution_count": 64
        }, 
        {
            "source": "X_lr = preprocessing.StandardScaler().fit(X_lr).transform(X_lr)\nX_lr[0:3]", 
            "cell_type": "code", 
            "metadata": {}, 
            "outputs": [
                {
                    "output_type": "stream", 
                    "name": "stderr", 
                    "text": "/opt/conda/envs/DSX-Python35/lib/python3.5/site-packages/sklearn/utils/validation.py:475: DataConversionWarning: Data with input dtype object was converted to float64 by StandardScaler.\n  warnings.warn(msg, DataConversionWarning)\n"
                }, 
                {
                    "output_type": "execute_result", 
                    "data": {
                        "text/plain": "array([[ 0.52,  0.92,  2.33,  0.42],\n       [ 0.52,  0.92,  0.34, -2.38],\n       [ 0.52, -0.96, -0.65,  0.42]])"
                    }, 
                    "execution_count": 65, 
                    "metadata": {}
                }
            ], 
            "execution_count": 65
        }, 
        {
            "source": "y_lr = data[ ['loan_status'] ].values\nle_status = preprocessing.LabelEncoder()\nle_status.fit(['PAIDOFF', 'COLLECTION'])\ny_lr = le_status.transform(y_lr)\ny_lr[0:3]", 
            "cell_type": "code", 
            "metadata": {}, 
            "outputs": [
                {
                    "output_type": "stream", 
                    "name": "stderr", 
                    "text": "/opt/conda/envs/DSX-Python35/lib/python3.5/site-packages/sklearn/preprocessing/label.py:128: DataConversionWarning: A column-vector y was passed when a 1d array was expected. Please change the shape of y to (n_samples, ), for example using ravel().\n  y = column_or_1d(y, warn=True)\n"
                }, 
                {
                    "output_type": "execute_result", 
                    "data": {
                        "text/plain": "array([1, 1, 1])"
                    }, 
                    "execution_count": 66, 
                    "metadata": {}
                }
            ], 
            "execution_count": 66
        }, 
        {
            "source": "from sklearn.model_selection import train_test_split\nX_trainIV, X_testIV, y_trainIV, y_testIV = train_test_split(X_lr, y_lr, test_size=0.2, random_state=4)\n\nprint('Train set : ', X_trainIV.shape, y_trainIV.shape )\nprint('Test set : ', X_testIV.shape, y_testIV.shape)", 
            "cell_type": "code", 
            "metadata": {}, 
            "outputs": [
                {
                    "output_type": "stream", 
                    "name": "stdout", 
                    "text": "Train set :  (276, 4) (276,)\nTest set :  (70, 4) (70,)\n"
                }
            ], 
            "execution_count": 67
        }, 
        {
            "source": "from sklearn.linear_model import LogisticRegression\nfrom sklearn.metrics import confusion_matrix\nLR = LogisticRegression(C=0.01, solver='liblinear').fit(X_trainIV,y_trainIV)\n# Now we can predict using our test set\n\nyhatIV = LR.predict(X_testIV)\n\nyhat_prob = LR.predict_proba(X_testIV)\nprint (yhat_prob[0:2])", 
            "cell_type": "code", 
            "metadata": {}, 
            "outputs": [
                {
                    "output_type": "stream", 
                    "name": "stdout", 
                    "text": "[[ 0.43  0.57]\n [ 0.38  0.62]]\n"
                }
            ], 
            "execution_count": 68
        }, 
        {
            "source": "import numpy as np\ncnf_matrix = confusion_matrix(y_testIV, yhatIV, labels=[1,0])\nnp.set_printoptions(precision=2)\nprint(confusion_matrix(y_testIV, yhatIV, labels=[1,0]))", 
            "cell_type": "code", 
            "metadata": {}, 
            "outputs": [
                {
                    "output_type": "stream", 
                    "name": "stdout", 
                    "text": "[[55  0]\n [15  0]]\n"
                }
            ], 
            "execution_count": 69
        }, 
        {
            "source": "from sklearn.metrics import classification_report, confusion_matrix\nimport itertools\n\ndef plot_confusion_matrix(cm, classes,\n                          normalize = False,\n                          title = 'Confusion matrix',\n                          cmap = plt.cm.Blues) :\n    \n    if normalize:\n        cm = cm.astype('float')/cm.sum(axis=1) [:, np.newaxis]\n        print('Normalized confusion matrix')\n    else:\n        print('Confusion matrix, without normalization')\n\n    print(cm)\n\n    plt.imshow(cm, interpolation='nearest', cmap=cmap)\n    plt.title(title)\n    plt.colorbar()\n    tick_marks = np.arange(len(classes))\n    plt.xticks(tick_marks, classes, rotation = 45 )\n    plt.yticks(tick_marks, classes)\n\n    fmt = '.2f' if normalize else 'd'\n    thresh = cm.max()/2\n    for i, j in itertools.product(range(cm.shape[0]), range(cm.shape[1])):\n        plt.text(j, i, format(cm[i, j], fmt),\n                 horizontalalignment = 'center',\n                 color = 'white' if cm[i,j] > thresh else 'black')\n    plt.tight_layout()\n    plt.ylabel('True label')\n    plt.xlabel('Predicted label')\n    plt.show()", 
            "cell_type": "code", 
            "metadata": {}, 
            "outputs": [], 
            "execution_count": 70
        }, 
        {
            "source": "# Plot non-normalized confusion matrix\nimport matplotlib.pyplot as plt\nplt.figure()\nplot_confusion_matrix(cnf_matrix, classes=['PAIDOFF=1','COLLECTION=0'], normalize=False, title='Confusion matrix')\n\nprint(classification_report(y_testIV, yhatIV))\n\nfrom sklearn.metrics import log_loss\nlog_loss(y_testIV, yhat_prob)\nprint ('log loss', log_loss(y_testIV, yhat_prob))", 
            "cell_type": "code", 
            "metadata": {}, 
            "outputs": [
                {
                    "output_type": "stream", 
                    "name": "stdout", 
                    "text": "Confusion matrix, without normalization\n[[55  0]\n [15  0]]\n"
                }, 
                {
                    "output_type": "display_data", 
                    "data": {
                        "image/png": "[encoded data removed]", 
                        "text/plain": "<matplotlib.figure.Figure at 0x7f00724abc88>"
                    }, 
                    "metadata": {}
                }, 
                {
                    "output_type": "stream", 
                    "name": "stdout", 
                    "text": "             precision    recall  f1-score   support\n\n          0       0.00      0.00      0.00        15\n          1       0.79      1.00      0.88        55\n\navg / total       0.62      0.79      0.69        70\n\nlog loss 0.600681988474\n"
                }, 
                {
                    "output_type": "stream", 
                    "name": "stderr", 
                    "text": "/opt/conda/envs/DSX-Python35/lib/python3.5/site-packages/sklearn/metrics/classification.py:1135: UndefinedMetricWarning: Precision and F-score are ill-defined and being set to 0.0 in labels with no predicted samples.\n  'precision', 'predicted', average, warn_for)\n"
                }
            ], 
            "execution_count": 71
        }, 
        {
            "source": "", 
            "cell_type": "code", 
            "metadata": {}, 
            "outputs": [], 
            "execution_count": null
        }
    ], 
    "metadata": {
        "kernelspec": {
            "display_name": "Python 3.5", 
            "name": "python3", 
            "language": "python"
        }, 
        "language_info": {
            "mimetype": "text/x-python", 
            "nbconvert_exporter": "python", 
            "version": "3.5.5", 
            "name": "python", 
            "file_extension": ".py", 
            "pygments_lexer": "ipython3", 
            "codemirror_mode": {
                "version": 3, 
                "name": "ipython"
            }
        }
    }, 
    "nbformat": 4
}